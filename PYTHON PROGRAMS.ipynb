{
  "nbformat": 4,
  "nbformat_minor": 0,
  "metadata": {
    "colab": {
      "name": "19-07-2021 - ML LAB .ipynb",
      "provenance": [],
      "collapsed_sections": []
    },
    "kernelspec": {
      "name": "python3",
      "display_name": "Python 3"
    },
    "language_info": {
      "name": "python"
    }
  },
  "cells": [
    {
      "cell_type": "code",
      "metadata": {
        "colab": {
          "base_uri": "https://localhost:8080/"
        },
        "id": "WKHptGtnAMqM",
        "outputId": "723473c1-28c0-4f9e-c69b-b845b0ee8c4d"
      },
      "source": [
        "num1 = int(input(\"first number: \n",
        "\"))\n",
        "num2 = int(input(\"second number: \"))\n",
        "\n",
        "\n",
        "sum = (num1) + (num2)\n",
        "\n",
        "print(\"sum\",sum)"
      ],
      "execution_count": null,
      "outputs": [
        {
          "output_type": "stream",
          "text": [
            "first number: 35\n",
            "second number: 109\n",
            "sum 144\n"
          ],
          "name": "stdout"
        }
      ]
    },
    {
      "cell_type": "code",
      "metadata": {
        "colab": {
          "base_uri": "https://localhost:8080/"
        },
        "id": "5F9eVGw1IEY3",
        "outputId": "56412baa-f396-4953-e077-ea0be1d20082"
      },
      "source": [
        "PI = 3.14\n",
        "r = float(input(\"Enter the radius of the circle: \"))\n",
        "area = PI * r * r\n",
        "print(\"%.2f\" %area)"
      ],
      "execution_count": null,
      "outputs": [
        {
          "output_type": "stream",
          "text": [
            "Enter the radius of the circle: 23.5\n",
            "1734.07\n"
          ],
          "name": "stdout"
        }
      ]
    },
    {
      "cell_type": "code",
      "metadata": {
        "colab": {
          "base_uri": "https://localhost:8080/"
        },
        "id": "elJLgJD0Jc7W",
        "outputId": "8b51e3c5-3451-45b9-d104-fc558e17a22b"
      },
      "source": [
        "import sys\n",
        "from datetime import date\n",
        "\n",
        "print(\"python version\")\n",
        "print (sys.version)\n",
        "\n",
        "\n",
        "print(\"version info\")\n",
        "print(sys.version_info)\n",
        "today=date.today()\n",
        "print(\"TODAY'S DATE:\", today)\n"
      ],
      "execution_count": null,
      "outputs": [
        {
          "output_type": "stream",
          "text": [
            "python version\n",
            "3.7.11 (default, Jul  3 2021, 18:01:19) \n",
            "[GCC 7.5.0]\n",
            "version info\n",
            "sys.version_info(major=3, minor=7, micro=11, releaselevel='final', serial=0)\n",
            "TODAY'S DATE: 2021-07-19\n"
          ],
          "name": "stdout"
        }
      ]
    }
  ]
}